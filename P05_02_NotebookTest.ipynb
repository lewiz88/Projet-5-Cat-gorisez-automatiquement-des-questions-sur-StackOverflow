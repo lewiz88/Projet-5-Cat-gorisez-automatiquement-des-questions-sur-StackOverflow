{
 "cells": [
  {
   "cell_type": "code",
   "execution_count": 1,
   "id": "94fe9ba4",
   "metadata": {},
   "outputs": [],
   "source": [
    "# Importation des bibliothèques\n",
    "\n",
    "import pandas as pd\n",
    "import numpy as np\n",
    "from sklearn.model_selection import train_test_split\n",
    "from sklearn.pipeline import Pipeline\n",
    "\n",
    "import matplotlib.pyplot as plt\n",
    "%matplotlib inline\n",
    "\n",
    "from sklearn.feature_extraction.text import TfidfVectorizer\n",
    "from sklearn.preprocessing import MultiLabelBinarizer\n",
    "from sklearn.metrics import hamming_loss\n",
    "from sklearn.metrics import make_scorer\n",
    "from sklearn.model_selection import GridSearchCV\n",
    "\n",
    "from sklearn.linear_model import LogisticRegression\n",
    "from sklearn.multiclass import OneVsRestClassifier\n",
    "from sklearn.dummy import DummyClassifier\n",
    "import joblib\n",
    "import pickle\n",
    "\n",
    "import warnings\n",
    "warnings.filterwarnings(\"ignore\")"
   ]
  },
  {
   "cell_type": "code",
   "execution_count": 2,
   "id": "8f63f124",
   "metadata": {},
   "outputs": [
    {
     "data": {
      "text/html": [
       "<div>\n",
       "<style scoped>\n",
       "    .dataframe tbody tr th:only-of-type {\n",
       "        vertical-align: middle;\n",
       "    }\n",
       "\n",
       "    .dataframe tbody tr th {\n",
       "        vertical-align: top;\n",
       "    }\n",
       "\n",
       "    .dataframe thead th {\n",
       "        text-align: right;\n",
       "    }\n",
       "</style>\n",
       "<table border=\"1\" class=\"dataframe\">\n",
       "  <thead>\n",
       "    <tr style=\"text-align: right;\">\n",
       "      <th></th>\n",
       "      <th>Tags</th>\n",
       "      <th>Text</th>\n",
       "    </tr>\n",
       "  </thead>\n",
       "  <tbody>\n",
       "    <tr>\n",
       "      <th>0</th>\n",
       "      <td>['c#']</td>\n",
       "      <td>error text textobject textobject script canvas...</td>\n",
       "    </tr>\n",
       "    <tr>\n",
       "      <th>1</th>\n",
       "      <td>['android-emulator']</td>\n",
       "      <td>android macos big sur mac big sur none working...</td>\n",
       "    </tr>\n",
       "    <tr>\n",
       "      <th>2</th>\n",
       "      <td>['python', 'beautifulsoup']</td>\n",
       "      <td>invalidurl url control character request urlli...</td>\n",
       "    </tr>\n",
       "  </tbody>\n",
       "</table>\n",
       "</div>"
      ],
      "text/plain": [
       "                          Tags  \\\n",
       "0                       ['c#']   \n",
       "1         ['android-emulator']   \n",
       "2  ['python', 'beautifulsoup']   \n",
       "\n",
       "                                                Text  \n",
       "0  error text textobject textobject script canvas...  \n",
       "1  android macos big sur mac big sur none working...  \n",
       "2  invalidurl url control character request urlli...  "
      ]
     },
     "execution_count": 2,
     "metadata": {},
     "output_type": "execute_result"
    }
   ],
   "source": [
    "# Extraction des données\n",
    "\n",
    "df = pd.read_csv(\"clean_dataset.csv\")\n",
    "df.head(3)"
   ]
  },
  {
   "cell_type": "code",
   "execution_count": 3,
   "id": "10452d77",
   "metadata": {},
   "outputs": [],
   "source": [
    "# X: Variables prédictives et Y: Variables à prédire\n",
    "\n",
    "X = df[\"Text\"]\n",
    "Y = df[\"Tags\"]"
   ]
  },
  {
   "cell_type": "code",
   "execution_count": 4,
   "id": "5f109b13",
   "metadata": {},
   "outputs": [
    {
     "data": {
      "text/plain": [
       "((893, 1000), (893, 42))"
      ]
     },
     "execution_count": 4,
     "metadata": {},
     "output_type": "execute_result"
    }
   ],
   "source": [
    "# transformations des variables prédictives et à prédire en matrice de nombres binaires\n",
    "\n",
    "\n",
    "vectorizer = TfidfVectorizer(analyzer = 'word',\n",
    "                     min_df=0.0,\n",
    "                     max_df = 1.0,\n",
    "                     strip_accents = None,\n",
    "                     encoding = 'utf-8', \n",
    "                     preprocessor=None,\n",
    "                     token_pattern=r\"(?u)\\S\\S+\",\n",
    "                     max_features=1000)\n",
    "vectorizer.fit(X)\n",
    "X1 = vectorizer.transform(X)\n",
    "\n",
    "mlb = MultiLabelBinarizer()\n",
    "Y1 = mlb.fit_transform(Y)\n",
    "\n",
    "X1.shape,Y1.shape"
   ]
  },
  {
   "cell_type": "code",
   "execution_count": 5,
   "id": "08cad5b7",
   "metadata": {},
   "outputs": [],
   "source": [
    "file_ = open(\"vecto.pkl\", \"wb\")\n",
    "pickle.dump(vectorizer, file_)\n",
    "file_.close()"
   ]
  },
  {
   "cell_type": "code",
   "execution_count": 6,
   "id": "e499f4b9",
   "metadata": {},
   "outputs": [],
   "source": [
    "file_ = open(\"vecto.pkl\", \"rb\")\n",
    "tfid1 = pickle.load(file_)"
   ]
  },
  {
   "cell_type": "code",
   "execution_count": 7,
   "id": "c004658c",
   "metadata": {},
   "outputs": [],
   "source": [
    "# données d'entraînement et données de test \n",
    "\n",
    "X_train, X_test, Y_train, Y_test = train_test_split(X1, Y1, test_size = 0.20, random_state = 42)"
   ]
  },
  {
   "cell_type": "code",
   "execution_count": 8,
   "id": "2098d998",
   "metadata": {},
   "outputs": [
    {
     "name": "stdout",
     "output_type": "stream",
     "text": [
      "La fraction d'étiquettes qui sont mal prédites est de 0.275\n"
     ]
    }
   ],
   "source": [
    "# testons prémièrement notre jeu de données avec l'algorithme DummyClassifier afin d'avoir une référence\n",
    "\n",
    "clf_dummy = DummyClassifier(random_state=42) \n",
    "clf_dummy.fit(X_train, Y_train)\n",
    "y_pred1 = clf_dummy.predict(X_test)\n",
    "print(\"La fraction d'étiquettes qui sont mal prédites est de\", round(hamming_loss(Y_test, y_pred1),3))"
   ]
  },
  {
   "cell_type": "code",
   "execution_count": 9,
   "id": "1a98d895",
   "metadata": {},
   "outputs": [
    {
     "name": "stdout",
     "output_type": "stream",
     "text": [
      "La fraction d'étiquettes qui sont mal prédites est de 0.151\n"
     ]
    }
   ],
   "source": [
    "# Mise en place de l'algorithme LogisticRegression via OneVsRest\n",
    "\n",
    "model = LogisticRegression()\n",
    "ovr = OneVsRestClassifier(model)\n",
    "ovr.fit(X_train, Y_train)\n",
    "y_pred2 = ovr.predict(X_test)\n",
    "print(\"La fraction d'étiquettes qui sont mal prédites est de\", round(hamming_loss(Y_test, y_pred2),3))"
   ]
  },
  {
   "cell_type": "code",
   "execution_count": 10,
   "id": "c0170b0b",
   "metadata": {},
   "outputs": [
    {
     "data": {
      "text/html": [
       "<div>\n",
       "<style scoped>\n",
       "    .dataframe tbody tr th:only-of-type {\n",
       "        vertical-align: middle;\n",
       "    }\n",
       "\n",
       "    .dataframe tbody tr th {\n",
       "        vertical-align: top;\n",
       "    }\n",
       "\n",
       "    .dataframe thead th {\n",
       "        text-align: right;\n",
       "    }\n",
       "</style>\n",
       "<table border=\"1\" class=\"dataframe\">\n",
       "  <thead>\n",
       "    <tr style=\"text-align: right;\">\n",
       "      <th></th>\n",
       "      <th>mean_fit_time</th>\n",
       "      <th>std_fit_time</th>\n",
       "      <th>mean_score_time</th>\n",
       "      <th>std_score_time</th>\n",
       "      <th>param_estimator__C</th>\n",
       "      <th>params</th>\n",
       "      <th>split0_test_score</th>\n",
       "      <th>split1_test_score</th>\n",
       "      <th>split2_test_score</th>\n",
       "      <th>mean_test_score</th>\n",
       "      <th>std_test_score</th>\n",
       "      <th>rank_test_score</th>\n",
       "    </tr>\n",
       "  </thead>\n",
       "  <tbody>\n",
       "    <tr>\n",
       "      <th>1</th>\n",
       "      <td>0.492518</td>\n",
       "      <td>0.004139</td>\n",
       "      <td>0.00417</td>\n",
       "      <td>0.000045</td>\n",
       "      <td>10</td>\n",
       "      <td>{'estimator__C': 10}</td>\n",
       "      <td>0.153061</td>\n",
       "      <td>0.147259</td>\n",
       "      <td>0.15076</td>\n",
       "      <td>0.15036</td>\n",
       "      <td>0.002386</td>\n",
       "      <td>9</td>\n",
       "    </tr>\n",
       "  </tbody>\n",
       "</table>\n",
       "</div>"
      ],
      "text/plain": [
       "   mean_fit_time  std_fit_time  mean_score_time  std_score_time  \\\n",
       "1       0.492518      0.004139          0.00417        0.000045   \n",
       "\n",
       "  param_estimator__C                params  split0_test_score  \\\n",
       "1                 10  {'estimator__C': 10}           0.153061   \n",
       "\n",
       "   split1_test_score  split2_test_score  mean_test_score  std_test_score  \\\n",
       "1           0.147259            0.15076          0.15036        0.002386   \n",
       "\n",
       "   rank_test_score  \n",
       "1                9  "
      ]
     },
     "execution_count": 10,
     "metadata": {},
     "output_type": "execute_result"
    }
   ],
   "source": [
    "# Adjustement des hyper-paramètres en vue d'améliorer la précision de l'algorithme\n",
    "\n",
    "tuned_parameters = [{'estimator__C': [100, 10, 1, 0.1, 0.01, 0.001, 0.0001, 0.00001, 0.000001]}]\n",
    "\n",
    "hamming = make_scorer(hamming_loss)\n",
    "\n",
    "log_reg_clf = OneVsRestClassifier(LogisticRegression())\n",
    "logistic_gs = GridSearchCV(log_reg_clf, tuned_parameters,scoring = hamming, cv=3)\n",
    "logistic_gs.fit(X_train, Y_train)\n",
    "results = pd.DataFrame(logistic_gs.cv_results_)\n",
    "\n",
    "results.sort_values(by = [\"rank_test_score\"], ascending = False).head(1)"
   ]
  },
  {
   "cell_type": "code",
   "execution_count": 11,
   "id": "2158fb49",
   "metadata": {},
   "outputs": [
    {
     "name": "stdout",
     "output_type": "stream",
     "text": [
      "La fraction d'étiquettes qui sont mal prédites est de 0.135\n"
     ]
    }
   ],
   "source": [
    "# Modèle optimisé\n",
    "\n",
    "model = LogisticRegression(C = 10)\n",
    "ovr = OneVsRestClassifier(model)\n",
    "ovr.fit(X_train, Y_train)\n",
    "y_pred2 = ovr.predict(X_test)\n",
    "print(\"La fraction d'étiquettes qui sont mal prédites est de\", round(hamming_loss(Y_test, y_pred2),3))"
   ]
  },
  {
   "cell_type": "code",
   "execution_count": 12,
   "id": "5ceb7456",
   "metadata": {},
   "outputs": [],
   "source": [
    "# Sauvegarde du modèle d'entraînement\n",
    "file = open(\"model.pkl\",\"wb\")\n",
    "pickle.dump(ovr, file)\n",
    "file.close()"
   ]
  }
 ],
 "metadata": {
  "kernelspec": {
   "display_name": "Python 3",
   "language": "python",
   "name": "python3"
  },
  "language_info": {
   "codemirror_mode": {
    "name": "ipython",
    "version": 3
   },
   "file_extension": ".py",
   "mimetype": "text/x-python",
   "name": "python",
   "nbconvert_exporter": "python",
   "pygments_lexer": "ipython3",
   "version": "3.8.8"
  }
 },
 "nbformat": 4,
 "nbformat_minor": 5
}
